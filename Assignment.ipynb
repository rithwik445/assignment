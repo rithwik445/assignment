{
 "cells": [
  {
   "cell_type": "markdown",
   "metadata": {},
   "source": [
    "#### The program must accept an integer N as the input. The program must print the fibonacci series in the reverse order as the output.\n",
    "\n",
    "- #### Example Input/Output 1:\n",
    "\n",
    "- #### Input:\n",
    "\n",
    " - ##### 5\n",
    "\n",
    "- #### Output:\n",
    "\n",
    " - #### 3 2 1 1 0\n",
    "\n",
    "- #### Example Input/Output 2:\n",
    "\n",
    "- #### Input:\n",
    "\n",
    " - #### 12\n",
    "\n",
    "- #### Output:\n",
    "\n",
    " - #### 89 55 34 21 13 8 5 3 2 1 1 0"
   ]
  },
  {
   "cell_type": "code",
   "execution_count": 52,
   "metadata": {},
   "outputs": [
    {
     "name": "stdout",
     "output_type": "stream",
     "text": [
      "89 55 34 21 13 8 5 3 2 1 1 0 "
     ]
    }
   ],
   "source": [
    "def Fibonacci(n):\n",
    "    a = [0] * n\n",
    "    a[0] = 0 \n",
    "    a[1] = 1 \n",
    "    for i in range(2, n):   \n",
    "        a[i] = a[i - 2] + a[i - 1]  \n",
    "    for i in range(n - 1, -1 , -1):   \n",
    "        print(a[i],end=\" \") \n",
    "n = 12\n",
    "Fibonacci(n)"
   ]
  },
  {
   "cell_type": "code",
   "execution_count": 48,
   "metadata": {},
   "outputs": [
    {
     "name": "stdout",
     "output_type": "stream",
     "text": [
      "0\n",
      "1\n",
      "1\n",
      "2\n",
      "3\n",
      "3  2  1  1  0  "
     ]
    }
   ],
   "source": [
    "list1=[]\n",
    "def fib(n,list1):\n",
    "    a =0\n",
    "    b =1\n",
    "    if n ==1:\n",
    "        list1.append(a)\n",
    "        print(a)\n",
    "    else:\n",
    "        list1.append(a)\n",
    "        print(a)\n",
    "        print(b)\n",
    "        list1.append(b)\n",
    "        for i in range (2,n):\n",
    "                c = a+b\n",
    "                a = b\n",
    "                b = c\n",
    "                print(c)\n",
    "                list1.append(c)\n",
    "    return list1\n",
    "list2=fib(5,list1)\n",
    "list2.reverse()\n",
    "for i in list2:\n",
    "    print(i,end=\"  \")"
   ]
  },
  {
   "cell_type": "markdown",
   "metadata": {},
   "source": [
    "#### The program must accept two string values S1 and S2. The program must print the pattern as shown in the \n",
    "\n",
    "- #### Example Input/Output sections.\n",
    "\n",
    "- #### Boundary Condition(s):\n",
    "\n",
    "- #### 1 <= Length of S1, S2 <= 100"
   ]
  },
  {
   "cell_type": "code",
   "execution_count": 50,
   "metadata": {},
   "outputs": [
    {
     "name": "stdout",
     "output_type": "stream",
     "text": [
      "b w\n",
      "a a\n",
      "d t\n",
      "* e\n",
      "* r\n"
     ]
    }
   ],
   "source": [
    "s1 = \"bad\"\n",
    "s2 = \"water\"\n",
    "if len(s1) == len(s2):\n",
    "    for i in range(len(s1)):\n",
    "        print(s1[i],s2[i])\n",
    "elif len(s1) < len(s2):    \n",
    "    for i in range(len(s1)):\n",
    "        print(s1[i],s2[i])      \n",
    "    j = i +1\n",
    "    while(j!=len(s2)):\n",
    "        print(\"*\",s2[j])\n",
    "        j+=1"
   ]
  },
  {
   "cell_type": "code",
   "execution_count": 51,
   "metadata": {},
   "outputs": [
    {
     "name": "stdout",
     "output_type": "stream",
     "text": [
      "g k\n",
      "i k\n",
      "o r\n",
      "n *\n",
      "e *\n",
      "e *\n"
     ]
    }
   ],
   "source": [
    "s1 = \"gionee\"\n",
    "s2 = \"kkr\"\n",
    "if len(s1)==len(s2):\n",
    "    for i in range(len(s1)):\n",
    "        print(s1[i],s2[i])\n",
    "elif len(s1) < len(s2):    \n",
    "    for i in range(len(s1)):\n",
    "        print(s1[i],s2[i])      \n",
    "elif len(s1) > len(s2):\n",
    "    for i in range(len(s2)):\n",
    "        print(s1[i],s2[i])\n",
    "    j = i+1\n",
    "    while(j!=len(s1)):\n",
    "        print(s1[j],\"*\")\n",
    "        j+=1"
   ]
  },
  {
   "cell_type": "code",
   "execution_count": null,
   "metadata": {},
   "outputs": [],
   "source": []
  }
 ],
 "metadata": {
  "kernelspec": {
   "display_name": "Python 3",
   "language": "python",
   "name": "python3"
  }
 },
 "nbformat": 4,
 "nbformat_minor": 2
}
